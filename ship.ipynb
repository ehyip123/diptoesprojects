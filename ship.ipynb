{
 "cells": [
  {
   "cell_type": "code",
   "execution_count": 6,
   "id": "63b022c7",
   "metadata": {},
   "outputs": [],
   "source": [
    "import pygame\n",
    "\n",
    "class Ship():\n",
    "    def __init__(self, game_settings, screen):\n",
    "        #initialise ship and set its starting position\n",
    "        self.screen = screen\n",
    "        self.game_settings = game_settings\n",
    "        \n",
    "            \n",
    "        #load ship image and get the rectangular coordinates (rect)\n",
    "        self.image = pygame.image.load(\"C:/Users/yip_c/OneDrive/Documents/Grace/Grace Things/Udemy Certifications/Python/alienship2.png\")\n",
    "        self.image = pygame.transform.scale(self.image,(150,90))  \n",
    "        self.rect = self.image.get_rect()\n",
    "        self.screen_rect = screen.get_rect()\n",
    "\n",
    "        #start each new ship at the bottom centre of the screen\n",
    "        self.rect.centerx = self.screen_rect.centerx\n",
    "        self.rect.bottom = self.screen_rect.bottom\n",
    "\n",
    "        #Store a decimal value for the ship's center\n",
    "        self.center = float(self.rect.centerx)\n",
    "\n",
    "\n",
    "        #movement flag\n",
    "        self.moving_right = False\n",
    "        self.moving_left = False\n",
    "    \n",
    "    def center_ship(self):\n",
    "        self.center = self.screen_rect.centerx\n",
    "    \n",
    "    def update(self):\n",
    "        #update the ship position based on the movement flag use speed factor to adjust center value instead of rect\n",
    "        if self.moving_right and self.rect.right < self.screen_rect.right:\n",
    "            self.center += self.game_settings.ship_speed_factor\n",
    "        if self.moving_left and self.rect.left > 0:\n",
    "            self.center -= self.game_settings.ship_speed_factor\n",
    "\n",
    "        #update rect object from self.center\n",
    "        self.rect.centerx = self.center\n",
    "\n",
    "    def blitme(self):\n",
    "        #draw ship at its current location\n",
    "        self.screen.blit(self.image,self.rect)\n",
    "\n",
    "\n"
   ]
  },
  {
   "cell_type": "code",
   "execution_count": null,
   "id": "adf95499",
   "metadata": {},
   "outputs": [],
   "source": []
  },
  {
   "cell_type": "code",
   "execution_count": null,
   "id": "4cde2732",
   "metadata": {},
   "outputs": [],
   "source": []
  }
 ],
 "metadata": {
  "kernelspec": {
   "display_name": "Python 3 (ipykernel)",
   "language": "python",
   "name": "python3"
  },
  "language_info": {
   "codemirror_mode": {
    "name": "ipython",
    "version": 3
   },
   "file_extension": ".py",
   "mimetype": "text/x-python",
   "name": "python",
   "nbconvert_exporter": "python",
   "pygments_lexer": "ipython3",
   "version": "3.9.12"
  }
 },
 "nbformat": 4,
 "nbformat_minor": 5
}
