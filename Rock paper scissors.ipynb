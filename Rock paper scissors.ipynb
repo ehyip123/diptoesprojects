{
 "cells": [
  {
   "cell_type": "code",
   "execution_count": 9,
   "id": "6e8cfffd",
   "metadata": {},
   "outputs": [
    {
     "name": "stdout",
     "output_type": "stream",
     "text": [
      "rock, paper , scissors········\n"
     ]
    }
   ],
   "source": [
    "#rockpaperscissors\n",
    "\n",
    "import getpass\n",
    "\n",
    "def userinput1():\n",
    "    player1=getpass.getpass('rock, paper , scissors')\n",
    "    return player1\n",
    "\n",
    "player1 = userinput1()\n",
    "#dontprint(player1)if hidden\n",
    "\n",
    "\n",
    "  \n",
    "    "
   ]
  },
  {
   "cell_type": "code",
   "execution_count": 10,
   "id": "5ef87b84",
   "metadata": {},
   "outputs": [
    {
     "name": "stdout",
     "output_type": "stream",
     "text": [
      "rock, paper , scissors········\n"
     ]
    }
   ],
   "source": [
    "def userinput2():\n",
    "    player2=getpass.getpass('rock, paper , scissors')\n",
    "    return player2\n",
    "\n",
    "player2 = userinput2()\n",
    "#print(player2)\n"
   ]
  },
  {
   "cell_type": "code",
   "execution_count": 12,
   "id": "b011a46c",
   "metadata": {},
   "outputs": [
    {
     "name": "stdout",
     "output_type": "stream",
     "text": [
      "player2 wins\n"
     ]
    }
   ],
   "source": [
    "def wincheck():\n",
    "            \n",
    "        if player1 == 'rock' and player2 =='scissors':\n",
    "            print('player1 wins')\n",
    "          \n",
    "        elif player1 == 'rock' and player2 =='paper':\n",
    "            print('player2 wins')\n",
    "         \n",
    "        \n",
    "        elif player1 == 'scissors' and player2 =='paper':\n",
    "            print('player1 wins')\n",
    "            \n",
    "     \n",
    "        elif player1 == 'scissors' and player2 =='rock':\n",
    "            print('player2 wins')\n",
    "          \n",
    "        \n",
    "        elif player1 == 'paper' and player2 == 'rock':\n",
    "            print('player 1 wins')\n",
    "            \n",
    "    \n",
    "        elif player1 == 'paper' and player2 == 'scissors':\n",
    "            print('player 2 wins')\n",
    "                  \n",
    "        else: \n",
    "            print('try again')\n",
    "wincheck()"
   ]
  },
  {
   "cell_type": "code",
   "execution_count": 15,
   "id": "7e4723f5",
   "metadata": {},
   "outputs": [
    {
     "name": "stdout",
     "output_type": "stream",
     "text": [
      "rock, paper , scissors········\n",
      "rock, paper , scissors········\n",
      "player1 wins\n"
     ]
    },
    {
     "data": {
      "text/plain": [
       "'rock'"
      ]
     },
     "metadata": {},
     "output_type": "display_data"
    },
    {
     "data": {
      "text/plain": [
       "'scissors'"
      ]
     },
     "metadata": {},
     "output_type": "display_data"
    }
   ],
   "source": [
    "game_on = True\n",
    "\n",
    "player1 = userinput1()\n",
    "\n",
    "player2 = userinput2()\n",
    "\n",
    "win = wincheck()\n",
    "display(player1)\n",
    "display(player2)\n",
    "\n"
   ]
  }
 ],
 "metadata": {
  "kernelspec": {
   "display_name": "Python 3 (ipykernel)",
   "language": "python",
   "name": "python3"
  },
  "language_info": {
   "codemirror_mode": {
    "name": "ipython",
    "version": 3
   },
   "file_extension": ".py",
   "mimetype": "text/x-python",
   "name": "python",
   "nbconvert_exporter": "python",
   "pygments_lexer": "ipython3",
   "version": "3.9.12"
  }
 },
 "nbformat": 4,
 "nbformat_minor": 5
}
