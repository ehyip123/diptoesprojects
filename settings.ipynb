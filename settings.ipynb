{
 "cells": [
  {
   "cell_type": "code",
   "execution_count": 11,
   "id": "6173a27d",
   "metadata": {},
   "outputs": [],
   "source": [
    "class Settings:\n",
    "    \n",
    "    def __init__(self):\n",
    "        #Screen settings\n",
    "        self.screen_width = 1200\n",
    "        self.screen_height = 600\n",
    "        self.bg_color = (100,20,50)\n",
    "        \n",
    "        #Ship settings rect only accepts integers so need to modify Ship\n",
    "        self.ship_speed_factor = 1.5\n",
    "        self.ship_limit = 3\n",
    "        \n",
    "        #bullet settings\n",
    "        self.bullet_speed_factor = 1.0\n",
    "        self.bullet_width = 3\n",
    "        self.bullet_height = 15\n",
    "        self.bullet_color = (159,43,104)\n",
    "        self.bullets_allowed = 5\n",
    "        \n",
    "        #alien settings\n",
    "        self.alien_speed_factor = 1\n",
    "        #determine how quick the fleet drops down the screen each time an alien reaches the edge\n",
    "        self.fleet_drop_speed = 10\n",
    "        # fleet_direction of 1 represents right; -1 represents left\n",
    "        self.fleet_direction =1"
   ]
  },
  {
   "cell_type": "code",
   "execution_count": null,
   "id": "1bce50f1",
   "metadata": {},
   "outputs": [],
   "source": []
  },
  {
   "cell_type": "code",
   "execution_count": null,
   "id": "73d2322d",
   "metadata": {},
   "outputs": [],
   "source": []
  },
  {
   "cell_type": "code",
   "execution_count": null,
   "id": "9d2473d6",
   "metadata": {},
   "outputs": [],
   "source": []
  }
 ],
 "metadata": {
  "kernelspec": {
   "display_name": "Python 3 (ipykernel)",
   "language": "python",
   "name": "python3"
  },
  "language_info": {
   "codemirror_mode": {
    "name": "ipython",
    "version": 3
   },
   "file_extension": ".py",
   "mimetype": "text/x-python",
   "name": "python",
   "nbconvert_exporter": "python",
   "pygments_lexer": "ipython3",
   "version": "3.9.12"
  }
 },
 "nbformat": 4,
 "nbformat_minor": 5
}
