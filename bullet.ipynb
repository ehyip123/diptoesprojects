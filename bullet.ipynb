{
 "cells": [
  {
   "cell_type": "code",
   "execution_count": 3,
   "id": "6a492395",
   "metadata": {},
   "outputs": [],
   "source": [
    "import pygame\n",
    "from pygame.sprite import Sprite\n",
    "#sprite groups elements in the game\n",
    "\n",
    "class Bullet(Sprite):\n",
    "    \n",
    "    def __init__(self,game_settings,screen,ship):\n",
    "        \n",
    "        #super inherits propery from sprite\n",
    "        super(Bullet,self).__init__()\n",
    "        self.screen = screen \n",
    "        \n",
    "        #create a bullet rect at (0,0) and then set correct position dependent on ship's position\n",
    "        self.rect = pygame.Rect(0,0,game_settings.bullet_width, game_settings.bullet_height)\n",
    "        self.rect.centerx = ship.rect.centerx\n",
    "        #make it look like fired from top of the ship\n",
    "        self.rect.top = ship.rect.top\n",
    "        \n",
    "        # Store the bullet's position as a decimal value\n",
    "        self.y = float(self.rect.y)\n",
    "        \n",
    "        self.color = game_settings.bullet_color\n",
    "        self.speed_factor = game_settings.bullet_speed_factor\n",
    "        \n",
    "    def update(self):\n",
    "        #update the decimal position of the bullet. move up the screen so must minus speed factor from self y\n",
    "        self.y -= self.speed_factor\n",
    "        #update the rect position\n",
    "        self.rect.y = self.y\n",
    "    \n",
    "    def draw_bullet(self):\n",
    "        pygame.draw.rect(self.screen,self.color,self.rect)"
   ]
  },
  {
   "cell_type": "code",
   "execution_count": null,
   "id": "8000644d",
   "metadata": {},
   "outputs": [],
   "source": []
  },
  {
   "cell_type": "code",
   "execution_count": null,
   "id": "015bc84a",
   "metadata": {},
   "outputs": [],
   "source": []
  },
  {
   "cell_type": "code",
   "execution_count": null,
   "id": "85372441",
   "metadata": {},
   "outputs": [],
   "source": []
  }
 ],
 "metadata": {
  "kernelspec": {
   "display_name": "Python 3 (ipykernel)",
   "language": "python",
   "name": "python3"
  },
  "language_info": {
   "codemirror_mode": {
    "name": "ipython",
    "version": 3
   },
   "file_extension": ".py",
   "mimetype": "text/x-python",
   "name": "python",
   "nbconvert_exporter": "python",
   "pygments_lexer": "ipython3",
   "version": "3.9.12"
  }
 },
 "nbformat": 4,
 "nbformat_minor": 5
}
