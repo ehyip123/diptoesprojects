{
 "cells": [
  {
   "cell_type": "code",
   "execution_count": 5,
   "id": "171dd83b",
   "metadata": {},
   "outputs": [],
   "source": [
    "class Gamestats():\n",
    "    def __init__(self,game_settings):\n",
    "        self.game_settings = game_settings\n",
    "        self.reset_stats()\n",
    "        #start alien invasion in an active state\n",
    "        self.game_active = True\n",
    "   \n",
    "    def reset_stats(self):\n",
    "        self.ships_left = self.game_settings.ship_limit\n",
    "        \n",
    "    "
   ]
  },
  {
   "cell_type": "code",
   "execution_count": null,
   "id": "2fcfbfb3",
   "metadata": {},
   "outputs": [],
   "source": []
  },
  {
   "cell_type": "code",
   "execution_count": null,
   "id": "2e0da38a",
   "metadata": {},
   "outputs": [],
   "source": []
  }
 ],
 "metadata": {
  "kernelspec": {
   "display_name": "Python 3 (ipykernel)",
   "language": "python",
   "name": "python3"
  },
  "language_info": {
   "codemirror_mode": {
    "name": "ipython",
    "version": 3
   },
   "file_extension": ".py",
   "mimetype": "text/x-python",
   "name": "python",
   "nbconvert_exporter": "python",
   "pygments_lexer": "ipython3",
   "version": "3.9.12"
  }
 },
 "nbformat": 4,
 "nbformat_minor": 5
}
