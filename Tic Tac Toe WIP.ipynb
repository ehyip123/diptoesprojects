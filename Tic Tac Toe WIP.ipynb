{
 "cells": [
  {
   "cell_type": "code",
   "execution_count": 1,
   "id": "7dab8bd9",
   "metadata": {},
   "outputs": [],
   "source": [
    "#display game list in tic tac toe format\n",
    "\n",
    "game_list=['0','1','2','3','4','5','6','7','8','9'] \n",
    "          \n",
    "def display_game(game_list):\n",
    "    print(game_list[6] + \"|\" + game_list[7] + \"|\" + game_list[8] + \"|\")\n",
    "    print(game_list[3] + \"|\" + game_list[4] + \"|\" + game_list[5] + \"|\")\n",
    "    print(game_list[0] + \"|\" + game_list[1] + \"|\" + game_list[2] + \"|\")\n",
    "    \n",
    "\n"
   ]
  },
  {
   "cell_type": "code",
   "execution_count": null,
   "id": "fd44fca9",
   "metadata": {},
   "outputs": [],
   "source": [
    "display_game(game_list)"
   ]
  },
  {
   "cell_type": "code",
   "execution_count": 67,
   "id": "46fe0aed",
   "metadata": {},
   "outputs": [],
   "source": [
    "#ask user to select X or O\n",
    "def user_marker():\n",
    "    player1 = 'wrong'\n",
    "    marker_list = ['X','O','x','o']\n",
    "        \n",
    "    while True:\n",
    "        player1 = input('Choose X or O')\n",
    "              \n",
    "        #input validation\n",
    "        if player1 in marker_list:\n",
    "            print('player1',player1)\n",
    "            break\n",
    "        \n",
    "        else:\n",
    "            print('Choose X or O')\n",
    "            continue\n",
    "            "
   ]
  },
  {
   "cell_type": "code",
   "execution_count": 68,
   "id": "0af9491b",
   "metadata": {},
   "outputs": [
    {
     "name": "stdout",
     "output_type": "stream",
     "text": [
      "Choose X or Oten\n",
      "Choose X or O\n",
      "Choose X or OO\n",
      "player1 O\n"
     ]
    }
   ],
   "source": [
    "user_marker()"
   ]
  },
  {
   "cell_type": "code",
   "execution_count": null,
   "id": "9c6c5eca",
   "metadata": {},
   "outputs": [],
   "source": [
    "#select position. error when input 2 wrong values bolean error\n",
    "\n",
    "def position_choice():\n",
    "    position = 'wrong'\n",
    "    valid_list = (0,1,2,3,4,5,6,7,8)\n",
    " \n",
    "    while True:\n",
    "        position = input('input 0-8')\n",
    "    \n",
    "    #digit validation\n",
    "        try:\n",
    "            position = int(position)\n",
    "            if position in valid_list:\n",
    "                position = int(position)\n",
    "                break\n",
    "            else:\n",
    "                print('out of range')\n",
    "                continue\n",
    "    \n",
    "        except ValueError:\n",
    "            print('input choice again')\n",
    "            continue\n",
    "    return int(position)\n"
   ]
  },
  {
   "cell_type": "code",
   "execution_count": 22,
   "id": "b50a724b",
   "metadata": {},
   "outputs": [
    {
     "name": "stdout",
     "output_type": "stream",
     "text": [
      "input 0-88\n"
     ]
    },
    {
     "data": {
      "text/plain": [
       "8"
      ]
     },
     "execution_count": 22,
     "metadata": {},
     "output_type": "execute_result"
    }
   ],
   "source": [
    "position_choice()"
   ]
  },
  {
   "cell_type": "code",
   "execution_count": 26,
   "id": "497167da",
   "metadata": {},
   "outputs": [],
   "source": [
    "#replace cell with marker\n",
    "def replace_cell(game_list,position):\n",
    "    user_input = input('Input X or O')\n",
    "    game_list[position]=user_input.upper()\n",
    "    return(game_list)"
   ]
  },
  {
   "cell_type": "code",
   "execution_count": null,
   "id": "968b8555",
   "metadata": {},
   "outputs": [],
   "source": [
    "replace_cell(game_list,8)\n",
    "display_game(game_list)\n"
   ]
  },
  {
   "cell_type": "code",
   "execution_count": 5,
   "id": "3d59a505",
   "metadata": {},
   "outputs": [],
   "source": [
    "#winning\n",
    "def win_check(game_list,mark):\n",
    "    return (game_list[0] == mark and game_list[1] == mark and game_list[2] == mark or\n",
    "    game_list[3] == mark and game_list[4] == mark and game_list[5] == mark or\n",
    "    game_list[6] == mark and game_list[7] == mark and game_list[8] == mark or\n",
    "    game_list[0] == mark and game_list[3] == mark and game_list[6] == mark or\n",
    "    game_list[1] == mark and game_list[4] == mark and game_list[7] == mark or\n",
    "    game_list[2] == mark and game_list[5] == mark and game_list[8] == mark or\n",
    "    game_list[0] == mark and game_list[4] == mark and game_list[8] == mark or\n",
    "    game_list[2] == mark and game_list[4] == mark and game_list[6] == mark)\n",
    "       \n",
    "    \n",
    "    "
   ]
  },
  {
   "cell_type": "code",
   "execution_count": null,
   "id": "9bdbcbbf",
   "metadata": {},
   "outputs": [],
   "source": [
    "win_check(game_list,'O')\n"
   ]
  },
  {
   "cell_type": "code",
   "execution_count": 6,
   "id": "3613e75b",
   "metadata": {},
   "outputs": [
    {
     "name": "stdout",
     "output_type": "stream",
     "text": [
      "False\n"
     ]
    }
   ],
   "source": [
    "#check full board\n",
    "def full_board(game_list):\n",
    "    for num in game_list:\n",
    "        if num not in ['X','O']:\n",
    "            return False\n",
    "    else: \n",
    "        True\n",
    "\n",
    "print(full_board(game_list))\n",
    "      "
   ]
  },
  {
   "cell_type": "code",
   "execution_count": null,
   "id": "7dbc3a85",
   "metadata": {},
   "outputs": [],
   "source": [
    "full_board(game_list)"
   ]
  },
  {
   "cell_type": "code",
   "execution_count": 27,
   "id": "85a8f82c",
   "metadata": {},
   "outputs": [
    {
     "name": "stdout",
     "output_type": "stream",
     "text": [
      "Choose X or OX\n",
      "player1 X\n",
      "6|7|8|\n",
      "3|4|5|\n",
      "0|1|2|\n",
      "Choose a position\n",
      "input 0-80\n",
      "Input X or Ox\n",
      "6|7|8|\n",
      "3|4|5|\n",
      "X|1|2|\n",
      "Choose a position\n",
      "input 0-84\n",
      "Input X or Oten\n",
      "6|7|8|\n",
      "3|TEN|5|\n",
      "X|1|2|\n",
      "Choose a position\n",
      "input 0-84\n",
      "Input X or OX\n",
      "6|7|8|\n",
      "3|X|5|\n",
      "X|1|2|\n",
      "Choose a position\n",
      "input 0-88\n",
      "Input X or OX\n",
      "Won\n",
      "6|7|X|\n",
      "3|X|5|\n",
      "X|1|2|\n"
     ]
    }
   ],
   "source": [
    "game_on = True\n",
    "game_list=['0','1','2','3','4','5','6','7','8'] \n",
    "trial_list = ['X','O','X','O','X','O','X','O','X']\n",
    "mark=user_marker()\n",
    "\n",
    "#show the board\n",
    "display_game(game_list)\n",
    "\n",
    "while game_on == True:\n",
    "    #choose a position\n",
    "    print('Choose a position')\n",
    "    position= position_choice()\n",
    "    #replace with marker\n",
    "    game_list = replace_cell(game_list,position)\n",
    "    #win check\n",
    "    if win_check(game_list,'X')==True or win_check(game_list,'O')==True:\n",
    "        print('Won')\n",
    "        display_game(game_list)\n",
    "        game_on = False\n",
    "    elif full_board(game_list)==True:\n",
    "        print('Tie')\n",
    "        display_game(game_list)\n",
    "        game_on = False\n",
    "    else:\n",
    "        display_game(game_list)"
   ]
  },
  {
   "cell_type": "code",
   "execution_count": null,
   "id": "dac2495a",
   "metadata": {},
   "outputs": [],
   "source": [
    "\n"
   ]
  },
  {
   "cell_type": "code",
   "execution_count": null,
   "id": "488c645a",
   "metadata": {},
   "outputs": [],
   "source": []
  }
 ],
 "metadata": {
  "kernelspec": {
   "display_name": "Python 3 (ipykernel)",
   "language": "python",
   "name": "python3"
  },
  "language_info": {
   "codemirror_mode": {
    "name": "ipython",
    "version": 3
   },
   "file_extension": ".py",
   "mimetype": "text/x-python",
   "name": "python",
   "nbconvert_exporter": "python",
   "pygments_lexer": "ipython3",
   "version": "3.9.12"
  }
 },
 "nbformat": 4,
 "nbformat_minor": 5
}
