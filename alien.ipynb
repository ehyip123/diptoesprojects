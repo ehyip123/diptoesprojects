{
 "cells": [
  {
   "cell_type": "code",
   "execution_count": 2,
   "id": "6f8e7c94",
   "metadata": {},
   "outputs": [],
   "source": [
    "import pygame\n",
    "from pygame.sprite import Sprite\n",
    "\n",
    "class Alien(Sprite):\n",
    "    \n",
    "    def __init__(self,game_settings,screen):\n",
    "        #group the aliens\n",
    "        super(Alien,self).__init__()\n",
    "        self.screen = screen\n",
    "        self.game_settings = game_settings\n",
    "        \n",
    "        #load the alien image\n",
    "        self.image = pygame.image.load(\"C:/Users/yip_c/OneDrive/Documents/Grace/Grace Things/Udemy Certifications/Python/alien icon.png\")\n",
    "        self.image = pygame.transform.scale(self.image,(80,80))\n",
    "        self.rect = self.image.get_rect()\n",
    "        \n",
    "        #start each new alien near the top left of the screen. add a space equal to width to the left and a space equal to height from top\n",
    "        self.rect.x = self.rect.width\n",
    "        self.rect.y = self.rect.height\n",
    "        \n",
    "        #store alien's position\n",
    "        self.x = float(self.rect.x)\n",
    "    \n",
    "    def check_edges(self):\n",
    "        screen_rect = self.screen.get_rect()\n",
    "        if self.rect.right >= screen_rect.right:\n",
    "            return True\n",
    "        elif self.rect.left <=0:\n",
    "            return True\n",
    "        \n",
    "    def update(self):\n",
    "        self.x += (self.game_settings.alien_speed_factor * self.game_settings.fleet_direction)\n",
    "        self.rect.x = self.x\n",
    "        \n",
    "    def blitme(self):\n",
    "        self.screen.blit(self.image,self.rect)"
   ]
  },
  {
   "cell_type": "code",
   "execution_count": null,
   "id": "6562a8da",
   "metadata": {},
   "outputs": [],
   "source": []
  },
  {
   "cell_type": "code",
   "execution_count": null,
   "id": "9089b920",
   "metadata": {},
   "outputs": [],
   "source": []
  },
  {
   "cell_type": "code",
   "execution_count": null,
   "id": "8ab0613b",
   "metadata": {},
   "outputs": [],
   "source": []
  }
 ],
 "metadata": {
  "kernelspec": {
   "display_name": "Python 3 (ipykernel)",
   "language": "python",
   "name": "python3"
  },
  "language_info": {
   "codemirror_mode": {
    "name": "ipython",
    "version": 3
   },
   "file_extension": ".py",
   "mimetype": "text/x-python",
   "name": "python",
   "nbconvert_exporter": "python",
   "pygments_lexer": "ipython3",
   "version": "3.9.12"
  }
 },
 "nbformat": 4,
 "nbformat_minor": 5
}
