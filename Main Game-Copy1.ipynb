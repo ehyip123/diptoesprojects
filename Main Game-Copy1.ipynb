{
 "cells": [
  {
   "cell_type": "code",
   "execution_count": 1,
   "id": "e92ba4bb",
   "metadata": {},
   "outputs": [
    {
     "name": "stdout",
     "output_type": "stream",
     "text": [
      "Requirement already satisfied: ipynb in c:\\users\\yip_c\\anaconda3\\lib\\site-packages (0.5.1)\n",
      "Note: you may need to restart the kernel to use updated packages.\n"
     ]
    }
   ],
   "source": [
    "pip install ipynb\n"
   ]
  },
  {
   "cell_type": "code",
   "execution_count": null,
   "id": "6b82cb94",
   "metadata": {},
   "outputs": [
    {
     "name": "stdout",
     "output_type": "stream",
     "text": [
      "pygame 2.1.2 (SDL 2.0.18, Python 3.9.12)\n",
      "Hello from the pygame community. https://www.pygame.org/contribute.html\n"
     ]
    }
   ],
   "source": [
    "import sys\n",
    "import pygame\n",
    "\n",
    "from ipynb.fs.full.settings import Settings\n",
    "from ipynb.fs.full.ship import Ship\n",
    "from ipynb.fs.full.alien import Alien\n",
    "from ipynb.fs.full.gamefunctions import*\n",
    "from ipynb.fs.full.bullet import Bullet\n",
    "from ipynb.fs.full.gamestats import Gamestats\n",
    "from pygame.sprite import Group\n",
    "\n",
    "\n",
    "def run_game():\n",
    "        #initialise all the pygame mods, settings and screen object\n",
    "        pygame.init()\n",
    "        #create screen and get settings from Settings notebook\n",
    "        game_settings = Settings()\n",
    "        screen = pygame.display.set_mode(\n",
    "            (game_settings.screen_width, game_settings.screen_height))\n",
    "            \n",
    "        pygame.display.set_caption(\"Alien Invasion\")\n",
    "               \n",
    "             \n",
    "             \n",
    "        #make a ship, group of bullets and aliens\n",
    "        ship = Ship(game_settings, screen)\n",
    "        bullets = Group()\n",
    "        aliens = Group()\n",
    "        \n",
    "        #make fleet of aliens\n",
    "        create_fleet(game_settings,screen,ship, aliens)\n",
    "        \n",
    "        #create an instance to store game stats\n",
    "        stats = Gamestats(game_settings)\n",
    "        \n",
    "        #start the main loop for the game\n",
    "        while True:\n",
    "            \n",
    "            #watch for keyboard and mouse events - cross over to game functions code\n",
    "            check_events(game_settings,screen, ship, bullets)\n",
    "            #this parts only run if game active\n",
    "            if stats.game_active:\n",
    "                ship.update()\n",
    "                update_bullets(game_settings, screen, ship, aliens, bullets)  \n",
    "                update_aliens(game_settings, stats, screen, ship, aliens, bullets)\n",
    "                update_screen(game_settings,screen,ship,aliens,bullets)         \n",
    "            \n",
    "run_game()"
   ]
  },
  {
   "cell_type": "code",
   "execution_count": 1,
   "id": "25436675",
   "metadata": {},
   "outputs": [],
   "source": [
    "quit\n"
   ]
  },
  {
   "cell_type": "code",
   "execution_count": null,
   "id": "2559b46a",
   "metadata": {},
   "outputs": [],
   "source": []
  },
  {
   "cell_type": "code",
   "execution_count": null,
   "id": "308329af",
   "metadata": {},
   "outputs": [],
   "source": []
  }
 ],
 "metadata": {
  "kernelspec": {
   "display_name": "Python 3 (ipykernel)",
   "language": "python",
   "name": "python3"
  },
  "language_info": {
   "codemirror_mode": {
    "name": "ipython",
    "version": 3
   },
   "file_extension": ".py",
   "mimetype": "text/x-python",
   "name": "python",
   "nbconvert_exporter": "python",
   "pygments_lexer": "ipython3",
   "version": "3.9.12"
  }
 },
 "nbformat": 4,
 "nbformat_minor": 5
}
